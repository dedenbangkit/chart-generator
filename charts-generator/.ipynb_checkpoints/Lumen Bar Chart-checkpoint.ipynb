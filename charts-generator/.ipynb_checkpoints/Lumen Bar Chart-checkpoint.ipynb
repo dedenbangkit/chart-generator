{
 "cells": [
  {
   "cell_type": "markdown",
   "metadata": {
    "toc": true
   },
   "source": [
    "<h1>Table of Contents<span class=\"tocSkip\"></span></h1>\n",
    "<div class=\"toc\"><ul class=\"toc-item\"></ul></div>"
   ]
  },
  {
   "cell_type": "code",
   "execution_count": 1,
   "metadata": {},
   "outputs": [],
   "source": [
    "import pandas as pd\n",
    "import requests as r\n",
    "import json"
   ]
  },
  {
   "cell_type": "code",
   "execution_count": 2,
   "metadata": {},
   "outputs": [],
   "source": [
    "data = {'series': [{'key': 'Not Sure',\n",
    "   'label': 'Not Sure',\n",
    "   'data': [{'value': 46},\n",
    "    {'value': 58},\n",
    "    {'value': 72},\n",
    "    {'value': 66},\n",
    "    {'value': 55},\n",
    "    {'value': 84},\n",
    "    {'value': 40},\n",
    "    {'value': 54},\n",
    "    {'value': 32},\n",
    "    {'value': 44},\n",
    "    {'value': 49},\n",
    "    {'value': 54},\n",
    "    {'value': 59},\n",
    "    {'value': 43},\n",
    "    {'value': 78}]},\n",
    "  {'key': 'No',\n",
    "   'label': 'No',\n",
    "   'data': [{'value': 70},\n",
    "    {'value': 67},\n",
    "    {'value': 68},\n",
    "    {'value': 61},\n",
    "    {'value': 103},\n",
    "    {'value': 35},\n",
    "    {'value': 50},\n",
    "    {'value': 35},\n",
    "    {'value': 40},\n",
    "    {'value': 82},\n",
    "    {'value': 33},\n",
    "    {'value': 58},\n",
    "    {'value': 42},\n",
    "    {'value': 43},\n",
    "    {'value': 45}]},\n",
    "  {'key': 'Yes',\n",
    "   'label': 'Yes',\n",
    "   'data': [{'value': 45},\n",
    "    {'value': 67},\n",
    "    {'value': 51},\n",
    "    {'value': 32},\n",
    "    {'value': 25},\n",
    "    {'value': 78},\n",
    "    {'value': 39},\n",
    "    {'value': 74},\n",
    "    {'value': 65},\n",
    "    {'value': 36},\n",
    "    {'value': 79},\n",
    "    {'value': 16},\n",
    "    {'value': 60},\n",
    "    {'value': 45},\n",
    "    {'value': 71}]}],\n",
    " 'common': {'metadata': {'type': 'text'},\n",
    "  'data': [{'label': 'Aoke Langalanga', 'key': 'Aoke Langalanga'},\n",
    "   {'label': 'Central Guadalcanal', 'key': 'Central Guadalcanal'},\n",
    "   {'label': 'Central Honiara', 'key': 'Central Honiara'},\n",
    "   {'label': 'Central Makira', 'key': 'Central Makira'},\n",
    "   {'label': 'East Guadalcanal', 'key': 'East Guadalcanal'},\n",
    "   {'label': 'East Honiara', 'key': 'East Honiara'},\n",
    "   {'label': 'Gao Bugotu', 'key': 'Gao Bugotu'},\n",
    "   {'label': 'Gizo Kolombangara', 'key': 'Gizo Kolombangara'},\n",
    "   {'label': 'Lau Mbaelelea', 'key': 'Lau Mbaelelea'},\n",
    "   {'label': 'Maringe Kokota', 'key': 'Maringe Kokota'},\n",
    "   {'label': 'North Vella Lavella', 'key': 'North Vella Lavella'},\n",
    "   {'label': 'North West Choiseul', 'key': 'North West Choiseul'},\n",
    "   {'label': 'Russell Savo', 'key': 'Russell Savo'},\n",
    "   {'label': 'Small Malaita', 'key': 'Small Malaita'},\n",
    "   {'label': 'West Honiara', 'key': 'West Honiara'}]}}"
   ]
  },
  {
   "cell_type": "code",
   "execution_count": 3,
   "metadata": {},
   "outputs": [],
   "source": [
    "output = r.get('http://localhost:4000/draft/results-barchart.json').json()"
   ]
  },
  {
   "cell_type": "code",
   "execution_count": 4,
   "metadata": {},
   "outputs": [],
   "source": [
    "#data = r.get('http://localhost:4000/data-barchart.json').json()\n",
    "#output = r.get('http://localhost:4000/output-barchart.json').json()"
   ]
  },
  {
   "cell_type": "code",
   "execution_count": 5,
   "metadata": {},
   "outputs": [],
   "source": [
    "ordered = pd.DataFrame([\n",
    "    {'ordered':'Central Makira'},\n",
    "    {'ordered':'East Guadalcanal'},\n",
    "    {'ordered':'Central Guadalcanal'},\n",
    "    {'ordered':'East Honiara'},\n",
    "    {'ordered':'Central Honiara'},\n",
    "    {'ordered':'West Honiara'},\n",
    "    {'ordered':'Aoke Langalanga'},\n",
    "    {'ordered':'Small Malaita'},\n",
    "    {'ordered':'Lau Mbaelelea'},\n",
    "    {'ordered':'Russell Savo'},\n",
    "    {'ordered':'Gao Bugotu'},\n",
    "    {'ordered':'Maringe Kokota'},\n",
    "    {'ordered':'Gizo Kolombangara'},\n",
    "    {'ordered':'North Vella Lavella'},\n",
    "    {'ordered':'North West Choiseul'}\n",
    "])"
   ]
  },
  {
   "cell_type": "code",
   "execution_count": 6,
   "metadata": {},
   "outputs": [],
   "source": [
    "ordered.reset_index(level=0, inplace=True)"
   ]
  },
  {
   "cell_type": "code",
   "execution_count": 7,
   "metadata": {},
   "outputs": [],
   "source": [
    "unordered = pd.DataFrame(data['common']['data'])"
   ]
  },
  {
   "cell_type": "code",
   "execution_count": 8,
   "metadata": {},
   "outputs": [],
   "source": [
    "unordered.reset_index(level=0, inplace=True)"
   ]
  },
  {
   "cell_type": "code",
   "execution_count": 9,
   "metadata": {},
   "outputs": [],
   "source": [
    "ordered_index = unordered.merge(ordered,left_on='key',right_on='ordered')\n",
    "ordered_index = ordered_index.sort_values(by=['index_y'], ascending=True)\n",
    "ordered_index = list(ordered_index['index_x'])"
   ]
  },
  {
   "cell_type": "code",
   "execution_count": 18,
   "metadata": {},
   "outputs": [
    {
     "data": {
      "text/plain": [
       "[3, 4, 1, 5, 2, 14, 0, 13, 8, 12, 6, 9, 7, 10, 11]"
      ]
     },
     "execution_count": 18,
     "metadata": {},
     "output_type": "execute_result"
    }
   ],
   "source": [
    "ordered_index"
   ]
  },
  {
   "cell_type": "code",
   "execution_count": 10,
   "metadata": {},
   "outputs": [],
   "source": [
    "getLegend = lambda x : [y['key'] for y in x]"
   ]
  },
  {
   "cell_type": "code",
   "execution_count": 11,
   "metadata": {},
   "outputs": [],
   "source": [
    "output['legend']['data'] = getLegend(data['series'])\n",
    "output['xAxis']['data'] = list(ordered['ordered'])"
   ]
  },
  {
   "cell_type": "code",
   "execution_count": 12,
   "metadata": {},
   "outputs": [],
   "source": [
    "for i,l in enumerate(output['legend']['data']):\n",
    "    if i == 0:\n",
    "        df = pd.DataFrame(data['series'][i]['data']).rename(columns={'value':i})\n",
    "    else:\n",
    "        df[i] = pd.DataFrame(data['series'][i]['data']).rename(columns={'value':i})[i]"
   ]
  },
  {
   "cell_type": "code",
   "execution_count": 13,
   "metadata": {},
   "outputs": [],
   "source": [
    "df['sum'] = df.sum(axis = 1, skipna = True)\n",
    "for i,l in enumerate(output['legend']['data']):\n",
    "    df[i] = round(df[i] / df['sum'] * 100).astype(int)"
   ]
  },
  {
   "cell_type": "code",
   "execution_count": 14,
   "metadata": {},
   "outputs": [],
   "source": [
    "df['order'] = pd.Series(ordered_index)"
   ]
  },
  {
   "cell_type": "code",
   "execution_count": 15,
   "metadata": {},
   "outputs": [],
   "source": [
    "df = df.sort_values(by=['order'], ascending=True).reset_index()"
   ]
  },
  {
   "cell_type": "code",
   "execution_count": 16,
   "metadata": {},
   "outputs": [],
   "source": [
    "output['series'] = []\n",
    "for i,l in enumerate(output[\"legend\"][\"data\"]):\n",
    "    output[\"series\"].append({\"name\": l,\n",
    "                             \"type\": \"bar\",\n",
    "                             \"stack\": \"total\",\n",
    "                             \"label\": {\n",
    "                                 \"normal\": {\n",
    "                                     \"fontSize\": 20,\n",
    "                                     \"fontWeight\": \"bold\",\n",
    "                                     \"show\": True,\n",
    "                                     \"position\": \"inside\",\n",
    "                                     \"formatter\": \"{c}%\"\n",
    "                                 }\n",
    "                            },\"data\": list(df[i])})"
   ]
  },
  {
   "cell_type": "code",
   "execution_count": 19,
   "metadata": {},
   "outputs": [],
   "source": [
    "json = json.dumps(output)\n",
    "# f = open(\"results-barchart.json\",\"w\")\n",
    "f = open(\"json-source/testing.json\",\"w\")\n",
    "f.write(json)\n",
    "f.close()"
   ]
  },
  {
   "cell_type": "code",
   "execution_count": null,
   "metadata": {},
   "outputs": [],
   "source": []
  }
 ],
 "metadata": {
  "kernelspec": {
   "display_name": "Python 3",
   "language": "python",
   "name": "python3"
  },
  "language_info": {
   "codemirror_mode": {
    "name": "ipython",
    "version": 3
   },
   "file_extension": ".py",
   "mimetype": "text/x-python",
   "name": "python",
   "nbconvert_exporter": "python",
   "pygments_lexer": "ipython3",
   "version": "3.6.4"
  },
  "toc": {
   "base_numbering": 1,
   "nav_menu": {},
   "number_sections": true,
   "sideBar": true,
   "skip_h1_title": false,
   "title_cell": "Table of Contents",
   "title_sidebar": "Contents",
   "toc_cell": true,
   "toc_position": {},
   "toc_section_display": true,
   "toc_window_display": true
  }
 },
 "nbformat": 4,
 "nbformat_minor": 2
}
