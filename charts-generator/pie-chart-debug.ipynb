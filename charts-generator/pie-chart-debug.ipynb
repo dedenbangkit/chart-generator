{
 "cells": [
  {
   "cell_type": "markdown",
   "metadata": {
    "toc": true
   },
   "source": [
    "<h1>Table of Contents<span class=\"tocSkip\"></span></h1>\n",
    "<div class=\"toc\"><ul class=\"toc-item\"></ul></div>"
   ]
  },
  {
   "cell_type": "code",
   "execution_count": 1,
   "metadata": {},
   "outputs": [],
   "source": [
    "import pandas as pd\n",
    "import requests as r\n",
    "import json"
   ]
  },
  {
   "cell_type": "code",
   "execution_count": 2,
   "metadata": {},
   "outputs": [],
   "source": [
    "data = {\"series\":[{\"key\":\"(5.2.21) Who had the most influence over how you voted?\",\"label\":\"(5.2.21) Who had the most influence over how you voted?\",\"data\":[{\"value\":47},{\"value\":10},{\"value\":1973},{\"value\":388}]}],\"common\":{\"data\":[{\"key\":\"Someone in my community\",\"label\":\"Someone in my community\"},{\"key\":\"N/A\",\"label\":\"N/A\"},{\"key\":\"Me\",\"label\":\"Me\"},{\"key\":\"My family\",\"label\":\"My family\"}],\"metadata\":{\"type\":\"text\"}}}"
   ]
  },
  {
   "cell_type": "code",
   "execution_count": 3,
   "metadata": {},
   "outputs": [],
   "source": [
    "output = r.get('http://localhost:4000/draft/results-piechart.json').json()"
   ]
  },
  {
   "cell_type": "code",
   "execution_count": 4,
   "metadata": {},
   "outputs": [],
   "source": [
    "# data = r.get('http://localhost:4000/data-piechart.json').json()\n",
    "#output = r.get('http://localhost:4000/output-piechart.json').json()"
   ]
  },
  {
   "cell_type": "code",
   "execution_count": 5,
   "metadata": {},
   "outputs": [
    {
     "data": {
      "text/plain": [
       "[{'value': 47}, {'value': 10}, {'value': 1973}, {'value': 388}]"
      ]
     },
     "execution_count": 5,
     "metadata": {},
     "output_type": "execute_result"
    }
   ],
   "source": [
    "data['series'][0]['data']"
   ]
  },
  {
   "cell_type": "code",
   "execution_count": 6,
   "metadata": {},
   "outputs": [
    {
     "data": {
      "text/plain": [
       "[{'key': 'Someone in my community', 'label': 'Someone in my community'},\n",
       " {'key': 'N/A', 'label': 'N/A'},\n",
       " {'key': 'Me', 'label': 'Me'},\n",
       " {'key': 'My family', 'label': 'My family'}]"
      ]
     },
     "execution_count": 6,
     "metadata": {},
     "output_type": "execute_result"
    }
   ],
   "source": [
    "data['common']['data']"
   ]
  },
  {
   "cell_type": "code",
   "execution_count": 7,
   "metadata": {},
   "outputs": [],
   "source": [
    "#output['legend']"
   ]
  },
  {
   "cell_type": "code",
   "execution_count": 8,
   "metadata": {},
   "outputs": [],
   "source": [
    "getLegend = lambda x : [y['key'] for y in x]\n",
    "getData = lambda x : [y['value'] for y in x]"
   ]
  },
  {
   "cell_type": "code",
   "execution_count": 9,
   "metadata": {},
   "outputs": [],
   "source": [
    "#output['legend']['data'] = getLegend(data['common']['data'])\n",
    "legend = getLegend(data['common']['data'])"
   ]
  },
  {
   "cell_type": "code",
   "execution_count": 10,
   "metadata": {},
   "outputs": [],
   "source": [
    "output['title']['text'] = str(sum(getData(data['series'][0]['data'])))\n",
    "#output['title']['subtext'] = \"Add Subtext Here\""
   ]
  },
  {
   "cell_type": "code",
   "execution_count": 11,
   "metadata": {},
   "outputs": [],
   "source": [
    "output['series'][0]['data'] = []\n",
    "for i,d in enumerate(data['series'][0]['data']):\n",
    "    output['series'][0]['data'].append({'value':d['value'],'name':legend[i]})"
   ]
  },
  {
   "cell_type": "code",
   "execution_count": 12,
   "metadata": {},
   "outputs": [
    {
     "data": {
      "text/plain": [
       "{'title': {'left': 'center',\n",
       "  'top': 'middle',\n",
       "  'text': '2418',\n",
       "  'textStyle': {'fontSize': 50, 'fontFamily': 'Monospace'}},\n",
       " 'series': [{'type': 'pie',\n",
       "   'radius': ['90%', '50%'],\n",
       "   'avoidLabelOverlap': True,\n",
       "   'label': {'show': True,\n",
       "    'normal': {'formatter': '{b}\\n\\n{d}%\\n({c})',\n",
       "     'show': True,\n",
       "     'fontSize': 25,\n",
       "     'fontFamily': 'Monospace',\n",
       "     'color': '#FFF',\n",
       "     'position': 'inside'}},\n",
       "   'labelLine': {'normal': {'show': False}},\n",
       "   'data': [{'value': 47, 'name': 'Someone in my community'},\n",
       "    {'value': 10, 'name': 'N/A'},\n",
       "    {'value': 1973, 'name': 'Me'},\n",
       "    {'value': 388, 'name': 'My family'}]}]}"
      ]
     },
     "execution_count": 12,
     "metadata": {},
     "output_type": "execute_result"
    }
   ],
   "source": [
    "output"
   ]
  },
  {
   "cell_type": "code",
   "execution_count": 13,
   "metadata": {},
   "outputs": [],
   "source": [
    "json = json.dumps(output)\n",
    "# f = open(\"results-piechart.json\",\"w\")\n",
    "f = open(\"draft/47B.json\",\"w\")\n",
    "f.write(json)\n",
    "f.close()"
   ]
  },
  {
   "cell_type": "code",
   "execution_count": null,
   "metadata": {},
   "outputs": [],
   "source": []
  }
 ],
 "metadata": {
  "kernelspec": {
   "display_name": "Python 3",
   "language": "python",
   "name": "python3"
  },
  "language_info": {
   "codemirror_mode": {
    "name": "ipython",
    "version": 3
   },
   "file_extension": ".py",
   "mimetype": "text/x-python",
   "name": "python",
   "nbconvert_exporter": "python",
   "pygments_lexer": "ipython3",
   "version": "3.6.4"
  },
  "toc": {
   "base_numbering": 1,
   "nav_menu": {},
   "number_sections": true,
   "sideBar": true,
   "skip_h1_title": false,
   "title_cell": "Table of Contents",
   "title_sidebar": "Contents",
   "toc_cell": true,
   "toc_position": {},
   "toc_section_display": true,
   "toc_window_display": true
  }
 },
 "nbformat": 4,
 "nbformat_minor": 2
}
